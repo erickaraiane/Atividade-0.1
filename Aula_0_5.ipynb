{
  "nbformat": 4,
  "nbformat_minor": 0,
  "metadata": {
    "colab": {
      "name": "Aula 0.5.ipynb",
      "provenance": [],
      "authorship_tag": "ABX9TyPDFTorFV7/m/JDJBHIj9zM",
      "include_colab_link": true
    },
    "kernelspec": {
      "name": "python3",
      "display_name": "Python 3"
    },
    "language_info": {
      "name": "python"
    }
  },
  "cells": [
    {
      "cell_type": "markdown",
      "metadata": {
        "id": "view-in-github",
        "colab_type": "text"
      },
      "source": [
        "<a href=\"https://colab.research.google.com/github/erickaraiane/Atividade-0.1/blob/main/Aula_0_5.ipynb\" target=\"_parent\"><img src=\"https://colab.research.google.com/assets/colab-badge.svg\" alt=\"Open In Colab\"/></a>"
      ]
    },
    {
      "cell_type": "code",
      "execution_count": null,
      "metadata": {
        "id": "UMBBPEY_pgYU",
        "colab": {
          "base_uri": "https://localhost:8080/"
        },
        "outputId": "8910f93c-bb73-4f3f-b3a0-ece265b7e0a1"
      },
      "outputs": [
        {
          "output_type": "stream",
          "name": "stdout",
          "text": [
            "[['ericka', 'leticia', 'tais', 'izadora'], 'casa']\n",
            "ericka\n",
            "izadora\n",
            "[['ericka', 'leticia', 'tais', 'izadora'], 'casa']\n",
            "casa\n",
            "False\n",
            "ericka\n",
            "tais\n"
          ]
        }
      ],
      "source": [
        "aula=['ericka','leticia','tais','izadora']\n",
        "novaaula=[aula,'casa']\n",
        "print(novaaula)\n",
        "print(aula[0])\n",
        "print(aula[3])\n",
        "print(novaaula)\n",
        "print(novaaula[1])\n",
        "print('bola'in aula)\n",
        "print(min(aula))\n",
        "print(max(aula))\n",
        "\n",
        "\n"
      ]
    },
    {
      "cell_type": "code",
      "source": [
        ""
      ],
      "metadata": {
        "id": "bbZvKKyWZjVp"
      },
      "execution_count": null,
      "outputs": []
    },
    {
      "cell_type": "code",
      "source": [
        "livros=['liv1','liv2','liv3']\n",
        "livros.append('livro4')\n",
        "print(livros)"
      ],
      "metadata": {
        "colab": {
          "base_uri": "https://localhost:8080/"
        },
        "id": "c2y4-gDacQSc",
        "outputId": "ed2e9c08-bdb1-4933-be9e-45be76e85b8a"
      },
      "execution_count": null,
      "outputs": [
        {
          "output_type": "stream",
          "name": "stdout",
          "text": [
            "['liv1', 'liv2', 'liv3', 'livro4']\n"
          ]
        }
      ]
    },
    {
      "cell_type": "code",
      "source": [
        "livros=['liv1','liv2','liv3']\n",
        "livros.insert(1,'liv4')\n",
        "print(livros)"
      ],
      "metadata": {
        "colab": {
          "base_uri": "https://localhost:8080/"
        },
        "id": "ar0yY-GPc-S8",
        "outputId": "c493e09d-5a44-4066-e296-8813d9dde7e2"
      },
      "execution_count": null,
      "outputs": [
        {
          "output_type": "stream",
          "name": "stdout",
          "text": [
            "['liv1', 'liv4', 'liv2', 'liv3']\n"
          ]
        }
      ]
    },
    {
      "cell_type": "code",
      "source": [
        "livros=['liv1','liv2','liv3']\n",
        "print(livros.pop(1))\n"
      ],
      "metadata": {
        "colab": {
          "base_uri": "https://localhost:8080/"
        },
        "id": "S9JbIeOfdNzi",
        "outputId": "b3989c30-9b78-482b-a5cc-a788d8bf7d78"
      },
      "execution_count": null,
      "outputs": [
        {
          "output_type": "stream",
          "name": "stdout",
          "text": [
            "liv2\n"
          ]
        }
      ]
    },
    {
      "cell_type": "code",
      "source": [
        "livros=['liv1','liv2','liv3']\n",
        "livros.remove('liv2')\n",
        "print(livros)\n"
      ],
      "metadata": {
        "colab": {
          "base_uri": "https://localhost:8080/"
        },
        "id": "23JSI2nDeZpG",
        "outputId": "e47b47f5-2dfb-4a10-864e-631c25c36ef6"
      },
      "execution_count": null,
      "outputs": [
        {
          "output_type": "stream",
          "name": "stdout",
          "text": [
            "['liv1', 'liv3']\n"
          ]
        }
      ]
    },
    {
      "cell_type": "code",
      "source": [
        "livros=['liv1','liv2','liv3']\n",
        "print(livros.index('liv3'))"
      ],
      "metadata": {
        "colab": {
          "base_uri": "https://localhost:8080/"
        },
        "id": "It2sy0K_fCy1",
        "outputId": "d7fe250c-b8a1-4dbb-f730-77915142b18e"
      },
      "execution_count": null,
      "outputs": [
        {
          "output_type": "stream",
          "name": "stdout",
          "text": [
            "2\n"
          ]
        }
      ]
    },
    {
      "cell_type": "code",
      "source": [
        "livros=['liv1','liv2','liv3']\n",
        "livros.reverse()\n",
        "print(livros)"
      ],
      "metadata": {
        "colab": {
          "base_uri": "https://localhost:8080/"
        },
        "id": "6j5nUTM7gpJP",
        "outputId": "2fcf747d-255c-4b96-8b59-bf7d5ab7425c"
      },
      "execution_count": null,
      "outputs": [
        {
          "output_type": "stream",
          "name": "stdout",
          "text": [
            "['liv3', 'liv2', 'liv1']\n"
          ]
        }
      ]
    },
    {
      "cell_type": "code",
      "source": [
        "livros=['liv1','liv2','liv2','liv3']\n",
        "print(livros.count('liv2'))"
      ],
      "metadata": {
        "colab": {
          "base_uri": "https://localhost:8080/"
        },
        "id": "61Rtawq7hfTO",
        "outputId": "3c87fa64-cd02-4b60-b985-36a1e75167d9"
      },
      "execution_count": null,
      "outputs": [
        {
          "output_type": "stream",
          "name": "stdout",
          "text": [
            "2\n"
          ]
        }
      ]
    },
    {
      "cell_type": "code",
      "source": [
        "a=[1,2,3,4,5]\n",
        "b=a\n",
        "print(b is not a)\n"
      ],
      "metadata": {
        "colab": {
          "base_uri": "https://localhost:8080/"
        },
        "id": "mcRRWDoFiRpR",
        "outputId": "eb82d19c-fda8-4f99-aafb-3a98c26e2e60"
      },
      "execution_count": null,
      "outputs": [
        {
          "output_type": "stream",
          "name": "stdout",
          "text": [
            "False\n"
          ]
        }
      ]
    },
    {
      "cell_type": "code",
      "source": [
        "a=[1,2,3,4,5]\n",
        "b=[1,2,0,4,5]\n",
        "print(a==b)\n",
        "b[1]=4\n",
        "print(b)"
      ],
      "metadata": {
        "colab": {
          "base_uri": "https://localhost:8080/"
        },
        "id": "kgAiQEcUi1MS",
        "outputId": "f498baf5-1193-4576-876b-5b4cc3b680e2"
      },
      "execution_count": null,
      "outputs": [
        {
          "output_type": "stream",
          "name": "stdout",
          "text": [
            "False\n",
            "[1, 4, 0, 4, 5]\n"
          ]
        }
      ]
    },
    {
      "cell_type": "code",
      "source": [
        "a=[1,2,3,4,5]\n",
        "b=a[:]\n",
        "b[0]=2\n",
        "print(a)\n",
        "print(b)"
      ],
      "metadata": {
        "colab": {
          "base_uri": "https://localhost:8080/"
        },
        "id": "trwK6EWXmsx8",
        "outputId": "281579c4-7a7b-47cf-aacf-0eeb50a1572c"
      },
      "execution_count": null,
      "outputs": [
        {
          "output_type": "stream",
          "name": "stdout",
          "text": [
            "[1, 2, 3, 4, 5]\n",
            "[2, 2, 3, 4, 5]\n"
          ]
        }
      ]
    },
    {
      "cell_type": "code",
      "source": [
        "tupla= ('an', 'lara', 'gabi')\n",
        "print(tupla) "
      ],
      "metadata": {
        "colab": {
          "base_uri": "https://localhost:8080/"
        },
        "id": "soqVy6wEnvpm",
        "outputId": "289b42b1-7e6d-47fa-d5d6-dcecbe5cfff0"
      },
      "execution_count": null,
      "outputs": [
        {
          "output_type": "stream",
          "name": "stdout",
          "text": [
            "('an', 'lara', 'gabi')\n"
          ]
        }
      ]
    },
    {
      "cell_type": "code",
      "source": [
        "agenda={}\n",
        "print(agenda)\n",
        "agenda={'maria':[555555],'joao':[898888],'pedro':[666666666]}\n",
        "print(agenda)\n",
        "print(agenda['joao'])\n",
        "\n"
      ],
      "metadata": {
        "colab": {
          "base_uri": "https://localhost:8080/"
        },
        "id": "y_vK3DsarCPX",
        "outputId": "11801fb2-3069-4e25-88ad-e6b305d73eae"
      },
      "execution_count": null,
      "outputs": [
        {
          "output_type": "stream",
          "name": "stdout",
          "text": [
            "{}\n",
            "{'maria': [555555], 'joao': [898888], 'pedro': [666666666]}\n",
            "[898888]\n"
          ]
        }
      ]
    },
    {
      "cell_type": "code",
      "source": [
        ""
      ],
      "metadata": {
        "id": "is8xSB-VsDpK"
      },
      "execution_count": null,
      "outputs": []
    }
  ]
}